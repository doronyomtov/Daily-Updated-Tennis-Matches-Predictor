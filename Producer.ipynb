{
 "cells": [
  {
   "cell_type": "code",
   "execution_count": null,
   "id": "f6c25ac9",
   "metadata": {
    "scrolled": false
   },
   "outputs": [
    {
     "name": "stdout",
     "output_type": "stream",
     "text": [
      "Updated data and sent to Kafka at 20:54:28\n",
      "Sleeping for 31.76 seconds until 08:00 AM...\n",
      "Updated data and sent to Kafka at 20:55:13\n",
      "Sleeping for 86386.86 seconds until 08:00 AM...\n"
     ]
    }
   ],
   "source": [
    "from kafka import KafkaProducer\n",
    "import pandas as pd\n",
    "import os\n",
    "import kagglehub\n",
    "import time\n",
    "from datetime import datetime, timedelta\n",
    "\n",
    "# הגדרת Kafka Producer ששולח מחרוזות רגילות\n",
    "producer = KafkaProducer(\n",
    "    bootstrap_servers='localhost:9092',\n",
    "    value_serializer=lambda v: v.encode('utf-8')\n",
    ")\n",
    "\n",
    "def send_to_kafka(df):\n",
    "    for _, row in df.iterrows():\n",
    "        row_str = ','.join(map(str, row.values)) \n",
    "        producer.send('tennis_daily_data', row_str)\n",
    "\n",
    "def update_data():\n",
    "    path = kagglehub.dataset_download(\"dissfya/atp-tennis-2000-2023daily-pull\")\n",
    "    for filename in os.listdir(path):\n",
    "        if filename.endswith(\".csv\"):\n",
    "            csv_file_path = os.path.join(path, filename)\n",
    "    df = pd.read_csv(csv_file_path)\n",
    "    send_to_kafka(df)\n",
    "    print(\"Updated data and sent to Kafka at\", time.strftime(\"%H:%M:%S\"))\n",
    "\n",
    "def get_seconds_until_8am():\n",
    "    \"\"\" מחזיר כמה שניות נותרו עד 08:00 בבוקר הבא \"\"\"\n",
    "    now = datetime.now()\n",
    "    target_time = datetime.combine(now.date(), datetime.min.time()) + timedelta(hours=80,minutes=0)\n",
    "    \n",
    "    # אם כבר עברנו את 08:00 היום, נקבע את היעד למחר\n",
    "    if now > target_time:\n",
    "        target_time += timedelta(days=1)\n",
    "\n",
    "    return (target_time - now).total_seconds()\n",
    "\n",
    "# הפעלה ראשונית - שליחת נתונים מיד\n",
    "update_data()\n",
    "\n",
    "# חישוב הזמן עד 08:00 והמתנה ישירה\n",
    "while True:\n",
    "    seconds_until_8am = get_seconds_until_8am()\n",
    "    print(f\"Sleeping for {seconds_until_8am:.2f} seconds until 08:00 AM...\")\n",
    "    time.sleep(seconds_until_8am)  # המתנה ישירה עד 08:00\n",
    "    update_data()"
   ]
  },
  {
   "cell_type": "code",
   "execution_count": null,
   "id": "4a861c9c",
   "metadata": {},
   "outputs": [],
   "source": []
  }
 ],
 "metadata": {
  "kernelspec": {
   "display_name": "Python 3 (ipykernel)",
   "language": "python",
   "name": "python3"
  },
  "language_info": {
   "codemirror_mode": {
    "name": "ipython",
    "version": 3
   },
   "file_extension": ".py",
   "mimetype": "text/x-python",
   "name": "python",
   "nbconvert_exporter": "python",
   "pygments_lexer": "ipython3",
   "version": "3.9.12"
  }
 },
 "nbformat": 4,
 "nbformat_minor": 5
}
